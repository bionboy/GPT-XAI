{
 "metadata": {
  "language_info": {
   "codemirror_mode": {
    "name": "ipython",
    "version": 3
   },
   "file_extension": ".py",
   "mimetype": "text/x-python",
   "name": "python",
   "nbconvert_exporter": "python",
   "pygments_lexer": "ipython3",
   "version": "3.9.1"
  },
  "orig_nbformat": 4,
  "kernelspec": {
   "name": "python3",
   "display_name": "Python 3.9.1 64-bit ('base': conda)"
  },
  "interpreter": {
   "hash": "b0593d430ca18689d4b5ec2e6d055903f0946144f9e30f949d8644eed8c02c9e"
  }
 },
 "nbformat": 4,
 "nbformat_minor": 2,
 "cells": [
  {
   "source": [
    "# Data"
   ],
   "cell_type": "markdown",
   "metadata": {}
  },
  {
   "source": [
    "## Loading Data"
   ],
   "cell_type": "markdown",
   "metadata": {}
  },
  {
   "source": [
    "### Read Model Output Data"
   ],
   "cell_type": "markdown",
   "metadata": {}
  },
  {
   "cell_type": "code",
   "execution_count": 58,
   "metadata": {},
   "outputs": [
    {
     "output_type": "stream",
     "name": "stdout",
     "text": [
      "Index(['F1', 'AdmitDate', 'Day_In_Stay', 'RTA_conf', 'Date_Of_Process',\n       'Feature_1', 'Feature_2', 'Feature_3', 'Feature_4', 'Feature_5',\n       'Feature_6', 'Feature_7', 'Feature_8', 'Feature_9', 'Feature_10',\n       'BWLoadDateTime', 'BWUpdateDateTime', 'Unnamed: 17', 'rta'],\n      dtype='object')\n0     True\n1     True\n2    False\n3    False\nName: rta, dtype: bool\n    F1   AdmitDate  Day_In_Stay  RTA_conf Date_Of_Process          Feature_1  \\\n0  604    9/3/2020           33      0.89       8/10/2020   CBC W/ AUTO DIFF   \n1  605    9/3/2020           33      0.86       8/10/2020   CBC W/ AUTO DIFF   \n2  586    9/5/2020           33      0.04       9/10/2020   CBC W/ AUTO DIFF   \n3  607   9/29/2020            9      0.04       8/10/2020   CBC W/ AUTO DIFF   \n\n                       Feature_2               Feature_3  \\\n0   PT EVALUATION MOD COMPLEXITY     CULTURE SCREEN MRSA   \n1             ARTERIAL BLOOD GAS   THERAPEUTIC PROCEDURE   \n2            CULTURE SCREEN MRSA      ARTERIAL BLOOD GAS   \n3            CULTURE SCREEN MRSA      ARTERIAL BLOOD GAS   \n\n                        Feature_4                  Feature_5  \\\n0              ARTERIAL BLOOD GAS      THERAPEUTIC PROCEDURE   \n1                      VANCOMYCIN   METOPROLOL TART 25MG TAB   \n2            GAIT TRAINING 15 MIN           MULTIVITAMIN TAB   \n3   OT EVALUATION HIGH COMPLEXITY      THERAPEUTIC PROCEDURE   \n\n                         Feature_6                       Feature_7  \\\n0       EVAL SWALLOW/ORAL FUNCTION                      VANCOMYCIN   \n1                 MULTIVITAMIN TAB          POTASSIUM CL 20MEQ TER   \n2                 ASPIRIN 81MG ECT   ATORVASTATIN CALCIUM 40MG TAB   \n3   INSULIN HUM REGULAR 100U/ML IN         ACETAMINOPHEN 325MG TAB   \n\n                    Feature_8                       Feature_9  \\\n0        GAIT TRAINING 15 MIN        METOPROLOL TART 25MG TAB   \n1   URINALYSIS AUTO W/O MICRO                      MASK TRACH   \n2          CREAM SWEEN 24 5OZ   PT EVALUATION HIGH COMPLEXITY   \n3            MULTIVITAMIN TAB            GABAPENTIN 300MG CAP   \n\n                        Feature_10    BWLoadDateTime  BWUpdateDateTime  \\\n0   INSULIN HUM REGULAR 100U/ML IN   10/8/20 3:27 PM   10/8/20 3:27 PM   \n1                 ASPIRIN 81MG ECT   10/8/20 3:27 PM   10/8/20 3:27 PM   \n2   IPRATR-ALBUTEROL 0.5-3MG/3ML S   10/8/20 3:27 PM   10/9/20 7:27 AM   \n3        URINALYSIS AUTO W/O MICRO   10/8/20 3:27 PM   10/8/20 3:27 PM   \n\n   Unnamed: 17    rta  \n0          NaN   True  \n1          NaN   True  \n2          NaN  False  \n3          NaN  False  \n"
     ]
    }
   ],
   "source": [
    "import pandas as pd\n",
    "df = pd.read_csv('../Examples/RTA/example_outputs.csv', index_col=False)\n",
    "df['rta'] = df['RTA_conf'].round().astype(bool)\n",
    "\n",
    "print(df.columns)\n",
    "print(df['rta'])\n",
    "print(df)"
   ]
  },
  {
   "source": [
    "### Read Feature Value Data"
   ],
   "cell_type": "markdown",
   "metadata": {}
  },
  {
   "cell_type": "code",
   "execution_count": 59,
   "metadata": {},
   "outputs": [
    {
     "output_type": "stream",
     "name": "stdout",
     "text": [
      "       CBC W/ AUTO DIFF  VENIPUNCTURE  COMPREHEN METABOLIC PANEL  \\\ncount        200.000000    200.000000                 200.000000   \nmean           0.475000      0.335000                   0.185000   \nstd            0.633547      0.473175                   0.437874   \nmin            0.000000      0.000000                   0.000000   \n25%            0.000000      0.000000                   0.000000   \n50%            0.000000      0.000000                   0.000000   \n75%            1.000000      1.000000                   0.000000   \nmax            5.000000      1.000000                   3.000000   \n\n       CHEST 1 VIEW FRONTAL  METABOLIC PANEL TOTAL CA  \\\ncount            200.000000                200.000000   \nmean               0.140000                  0.335000   \nstd                0.401505                  0.586939   \nmin                0.000000                  0.000000   \n25%                0.000000                  0.000000   \n50%                0.000000                  0.000000   \n75%                0.000000                  1.000000   \nmax                3.000000                  5.000000   \n\n       GLUC BLOOD NOVA STAT STRIP  SODIUM CL 0.9% IVS   MAGNESIUM  \\\ncount                  200.000000          200.000000  200.000000   \nmean                     1.975000            1.635000    0.135000   \nstd                      6.065337            2.544434    0.466759   \nmin                      0.000000           -1.000000    0.000000   \n25%                      0.000000            0.000000    0.000000   \n50%                      0.000000            0.500000    0.000000   \n75%                      4.000000            3.000000    0.000000   \nmax                     82.000000           19.000000    5.000000   \n\n       SPUTUM INDUCTION  AEROSOL/VAPOR INHALE INITIAL  ...  \\\ncount             200.0                    200.000000  ...   \nmean                0.0                      0.030000  ...   \nstd                 0.0                      0.171015  ...   \nmin                 0.0                      0.000000  ...   \n25%                 0.0                      0.000000  ...   \n50%                 0.0                      0.000000  ...   \n75%                 0.0                      0.000000  ...   \nmax                 0.0                      1.000000  ...   \n\n       TRACH SUCT 14FR-12 W/SWVL A  MIDODRINE HCL 5MG TAB  \\\ncount                   200.000000             200.000000   \nmean                      0.030000               0.170000   \nstd                       0.198233               0.956911   \nmin                       0.000000               0.000000   \n25%                       0.000000               0.000000   \n50%                       0.000000               0.000000   \n75%                       0.000000               0.000000   \nmax                       2.000000               9.000000   \n\n       NEBULIZER MISTY MAX DISP 10  ALBUMIN HUMAN 25% IVS  \\\ncount                   200.000000             200.000000   \nmean                      0.010000               0.010000   \nstd                       0.099748               0.099748   \nmin                       0.000000               0.000000   \n25%                       0.000000               0.000000   \n50%                       0.000000               0.000000   \n75%                       0.000000               0.000000   \nmax                       1.000000               1.000000   \n\n       CANN INN 8.0 SHILEY  NEB PREF'LD 1000ML WATER ONLY  \\\ncount           200.000000                     200.000000   \nmean              0.020000                       0.030000   \nstd               0.172478                       0.299245   \nmin               0.000000                       0.000000   \n25%               0.000000                       0.000000   \n50%               0.000000                       0.000000   \n75%               0.000000                       0.000000   \nmax               2.000000                       4.000000   \n\n       HEPATIC FUNCTION PANEL  OXYCODONE HCL 5MG TAB  \\\ncount              200.000000             200.000000   \nmean                 0.005000               0.235000   \nstd                  0.070711               1.151697   \nmin                  0.000000               0.000000   \n25%                  0.000000               0.000000   \n50%                  0.000000               0.000000   \n75%                  0.000000               0.000000   \nmax                  1.000000              12.000000   \n\n       RBC LEUKOREDUCED-PROC ONLY         RTA  \ncount                  200.000000  200.000000  \nmean                     0.015000    0.055000  \nstd                      0.157796    0.228552  \nmin                      0.000000    0.000000  \n25%                      0.000000    0.000000  \n50%                      0.000000    0.000000  \n75%                      0.000000    0.000000  \nmax                      2.000000    1.000000  \n\n[8 rows x 137 columns]\n"
     ]
    }
   ],
   "source": [
    "feats = pd.read_csv('../Examples/RTA/example_feature_values.csv', index_col='Index')\n",
    "\n",
    "# print(feats.columns)\n",
    "# print(feats.sample(10))\n",
    "print(feats.describe())"
   ]
  },
  {
   "source": [
    "## Create possible feature values to add to outputs data"
   ],
   "cell_type": "markdown",
   "metadata": {}
  },
  {
   "source": [
    "### Get all features used in outputs data"
   ],
   "cell_type": "markdown",
   "metadata": {}
  },
  {
   "cell_type": "code",
   "execution_count": 62,
   "metadata": {},
   "outputs": [
    {
     "output_type": "execute_result",
     "data": {
      "text/plain": [
       "           Feature_1                      Feature_2               Feature_3  \\\n",
       "0   CBC W/ AUTO DIFF   PT EVALUATION MOD COMPLEXITY     CULTURE SCREEN MRSA   \n",
       "1   CBC W/ AUTO DIFF             ARTERIAL BLOOD GAS   THERAPEUTIC PROCEDURE   \n",
       "2   CBC W/ AUTO DIFF            CULTURE SCREEN MRSA      ARTERIAL BLOOD GAS   \n",
       "3   CBC W/ AUTO DIFF            CULTURE SCREEN MRSA      ARTERIAL BLOOD GAS   \n",
       "\n",
       "                        Feature_4                  Feature_5  \\\n",
       "0              ARTERIAL BLOOD GAS      THERAPEUTIC PROCEDURE   \n",
       "1                      VANCOMYCIN   METOPROLOL TART 25MG TAB   \n",
       "2            GAIT TRAINING 15 MIN           MULTIVITAMIN TAB   \n",
       "3   OT EVALUATION HIGH COMPLEXITY      THERAPEUTIC PROCEDURE   \n",
       "\n",
       "                         Feature_6                       Feature_7  \\\n",
       "0       EVAL SWALLOW/ORAL FUNCTION                      VANCOMYCIN   \n",
       "1                 MULTIVITAMIN TAB          POTASSIUM CL 20MEQ TER   \n",
       "2                 ASPIRIN 81MG ECT   ATORVASTATIN CALCIUM 40MG TAB   \n",
       "3   INSULIN HUM REGULAR 100U/ML IN         ACETAMINOPHEN 325MG TAB   \n",
       "\n",
       "                    Feature_8                       Feature_9  \\\n",
       "0        GAIT TRAINING 15 MIN        METOPROLOL TART 25MG TAB   \n",
       "1   URINALYSIS AUTO W/O MICRO                      MASK TRACH   \n",
       "2          CREAM SWEEN 24 5OZ   PT EVALUATION HIGH COMPLEXITY   \n",
       "3            MULTIVITAMIN TAB            GABAPENTIN 300MG CAP   \n",
       "\n",
       "                        Feature_10  \n",
       "0   INSULIN HUM REGULAR 100U/ML IN  \n",
       "1                 ASPIRIN 81MG ECT  \n",
       "2   IPRATR-ALBUTEROL 0.5-3MG/3ML S  \n",
       "3        URINALYSIS AUTO W/O MICRO  "
      ],
      "text/html": "<div>\n<style scoped>\n    .dataframe tbody tr th:only-of-type {\n        vertical-align: middle;\n    }\n\n    .dataframe tbody tr th {\n        vertical-align: top;\n    }\n\n    .dataframe thead th {\n        text-align: right;\n    }\n</style>\n<table border=\"1\" class=\"dataframe\">\n  <thead>\n    <tr style=\"text-align: right;\">\n      <th></th>\n      <th>Feature_1</th>\n      <th>Feature_2</th>\n      <th>Feature_3</th>\n      <th>Feature_4</th>\n      <th>Feature_5</th>\n      <th>Feature_6</th>\n      <th>Feature_7</th>\n      <th>Feature_8</th>\n      <th>Feature_9</th>\n      <th>Feature_10</th>\n    </tr>\n  </thead>\n  <tbody>\n    <tr>\n      <th>0</th>\n      <td>CBC W/ AUTO DIFF</td>\n      <td>PT EVALUATION MOD COMPLEXITY</td>\n      <td>CULTURE SCREEN MRSA</td>\n      <td>ARTERIAL BLOOD GAS</td>\n      <td>THERAPEUTIC PROCEDURE</td>\n      <td>EVAL SWALLOW/ORAL FUNCTION</td>\n      <td>VANCOMYCIN</td>\n      <td>GAIT TRAINING 15 MIN</td>\n      <td>METOPROLOL TART 25MG TAB</td>\n      <td>INSULIN HUM REGULAR 100U/ML IN</td>\n    </tr>\n    <tr>\n      <th>1</th>\n      <td>CBC W/ AUTO DIFF</td>\n      <td>ARTERIAL BLOOD GAS</td>\n      <td>THERAPEUTIC PROCEDURE</td>\n      <td>VANCOMYCIN</td>\n      <td>METOPROLOL TART 25MG TAB</td>\n      <td>MULTIVITAMIN TAB</td>\n      <td>POTASSIUM CL 20MEQ TER</td>\n      <td>URINALYSIS AUTO W/O MICRO</td>\n      <td>MASK TRACH</td>\n      <td>ASPIRIN 81MG ECT</td>\n    </tr>\n    <tr>\n      <th>2</th>\n      <td>CBC W/ AUTO DIFF</td>\n      <td>CULTURE SCREEN MRSA</td>\n      <td>ARTERIAL BLOOD GAS</td>\n      <td>GAIT TRAINING 15 MIN</td>\n      <td>MULTIVITAMIN TAB</td>\n      <td>ASPIRIN 81MG ECT</td>\n      <td>ATORVASTATIN CALCIUM 40MG TAB</td>\n      <td>CREAM SWEEN 24 5OZ</td>\n      <td>PT EVALUATION HIGH COMPLEXITY</td>\n      <td>IPRATR-ALBUTEROL 0.5-3MG/3ML S</td>\n    </tr>\n    <tr>\n      <th>3</th>\n      <td>CBC W/ AUTO DIFF</td>\n      <td>CULTURE SCREEN MRSA</td>\n      <td>ARTERIAL BLOOD GAS</td>\n      <td>OT EVALUATION HIGH COMPLEXITY</td>\n      <td>THERAPEUTIC PROCEDURE</td>\n      <td>INSULIN HUM REGULAR 100U/ML IN</td>\n      <td>ACETAMINOPHEN 325MG TAB</td>\n      <td>MULTIVITAMIN TAB</td>\n      <td>GABAPENTIN 300MG CAP</td>\n      <td>URINALYSIS AUTO W/O MICRO</td>\n    </tr>\n  </tbody>\n</table>\n</div>"
     },
     "metadata": {},
     "execution_count": 62
    }
   ],
   "source": [
    "import numpy as np\n",
    "\n",
    "feat_cols = df.iloc[:,5:15]\n",
    "features_in_outputs = [s.strip() for s in np.unique(feat_cols.values.flatten())]\n",
    "features_in_outputs\n",
    "#feats[features_in_outputs]\n",
    "feat_cols"
   ]
  },
  {
   "source": [
    "### Fill in missing feature values with common values from each class (RTA > .5 and RTA < .5)"
   ],
   "cell_type": "markdown",
   "metadata": {}
  },
  {
   "cell_type": "code",
   "execution_count": 63,
   "metadata": {},
   "outputs": [
    {
     "output_type": "execute_result",
     "data": {
      "text/plain": [
       "         CBC W/ AUTO DIFF  VENIPUNCTURE  COMPREHEN METABOLIC PANEL  \\\n",
       "Index                                                                \n",
       "564927                  0             0                          0   \n",
       "867870                  0             1                          0   \n",
       "1766991                 1             0                          1   \n",
       "1296695                 1             1                          0   \n",
       "1138238                 0             0                          0   \n",
       "64315                   0             0                          0   \n",
       "442457                  0             0                          0   \n",
       "29655                   0             0                          0   \n",
       "1861020                 1             1                          0   \n",
       "1055780                 2             0                          2   \n",
       "487174                  0             1                          1   \n",
       "\n",
       "         CHEST 1 VIEW FRONTAL  METABOLIC PANEL TOTAL CA  \\\n",
       "Index                                                     \n",
       "564927                      1                         0   \n",
       "867870                      1                         1   \n",
       "1766991                     0                         0   \n",
       "1296695                     0                         0   \n",
       "1138238                     0                         1   \n",
       "64315                       0                         0   \n",
       "442457                      0                         0   \n",
       "29655                       0                         0   \n",
       "1861020                     0                         2   \n",
       "1055780                     1                         0   \n",
       "487174                      0                         0   \n",
       "\n",
       "         GLUC BLOOD NOVA STAT STRIP  SODIUM CL 0.9% IVS  MAGNESIUM  \\\n",
       "Index                                                                \n",
       "564927                            0                   3          0   \n",
       "867870                            0                   0          0   \n",
       "1766991                           0                   5          0   \n",
       "1296695                           0                   4          0   \n",
       "1138238                           0                   3          0   \n",
       "64315                             0                   2          0   \n",
       "442457                            4                   0          0   \n",
       "29655                             0                   3          0   \n",
       "1861020                           4                   4          1   \n",
       "1055780                           0                   2          0   \n",
       "487174                            4                   3          0   \n",
       "\n",
       "         SPUTUM INDUCTION  AEROSOL/VAPOR INHALE INITIAL  ...  \\\n",
       "Index                                                    ...   \n",
       "564927                  0                             0  ...   \n",
       "867870                  0                             0  ...   \n",
       "1766991                 0                             0  ...   \n",
       "1296695                 0                             0  ...   \n",
       "1138238                 0                             0  ...   \n",
       "64315                   0                             0  ...   \n",
       "442457                  0                             0  ...   \n",
       "29655                   0                             0  ...   \n",
       "1861020                 0                             1  ...   \n",
       "1055780                 0                             0  ...   \n",
       "487174                  0                             0  ...   \n",
       "\n",
       "         TRACH SUCT 14FR-12 W/SWVL A  MIDODRINE HCL 5MG TAB  \\\n",
       "Index                                                         \n",
       "564927                             0                      0   \n",
       "867870                             0                      0   \n",
       "1766991                            0                      3   \n",
       "1296695                            0                      0   \n",
       "1138238                            0                      0   \n",
       "64315                              0                      0   \n",
       "442457                             0                      0   \n",
       "29655                              0                      9   \n",
       "1861020                            0                      0   \n",
       "1055780                            0                      0   \n",
       "487174                             0                      0   \n",
       "\n",
       "         NEBULIZER MISTY MAX DISP 10  ALBUMIN HUMAN 25% IVS  \\\n",
       "Index                                                         \n",
       "564927                             0                      0   \n",
       "867870                             0                      0   \n",
       "1766991                            0                      0   \n",
       "1296695                            0                      0   \n",
       "1138238                            0                      0   \n",
       "64315                              0                      0   \n",
       "442457                             0                      0   \n",
       "29655                              0                      0   \n",
       "1861020                            0                      0   \n",
       "1055780                            0                      0   \n",
       "487174                             0                      0   \n",
       "\n",
       "         CANN INN 8.0 SHILEY  NEB PREF'LD 1000ML WATER ONLY  \\\n",
       "Index                                                         \n",
       "564927                     0                              0   \n",
       "867870                     0                              0   \n",
       "1766991                    0                              0   \n",
       "1296695                    0                              0   \n",
       "1138238                    0                              0   \n",
       "64315                      2                              0   \n",
       "442457                     0                              0   \n",
       "29655                      0                              0   \n",
       "1861020                    0                              0   \n",
       "1055780                    0                              0   \n",
       "487174                     0                              0   \n",
       "\n",
       "         HEPATIC FUNCTION PANEL  OXYCODONE HCL 5MG TAB  \\\n",
       "Index                                                    \n",
       "564927                        0                      0   \n",
       "867870                        0                      0   \n",
       "1766991                       0                      1   \n",
       "1296695                       0                      0   \n",
       "1138238                       0                      4   \n",
       "64315                         0                      0   \n",
       "442457                        0                      0   \n",
       "29655                         0                      0   \n",
       "1861020                       0                      0   \n",
       "1055780                       0                      6   \n",
       "487174                        0                      0   \n",
       "\n",
       "         RBC LEUKOREDUCED-PROC ONLY  RTA  \n",
       "Index                                     \n",
       "564927                            0    1  \n",
       "867870                            0    1  \n",
       "1766991                           0    1  \n",
       "1296695                           0    1  \n",
       "1138238                           1    1  \n",
       "64315                             0    1  \n",
       "442457                            0    1  \n",
       "29655                             0    1  \n",
       "1861020                           0    1  \n",
       "1055780                           0    1  \n",
       "487174                            0    1  \n",
       "\n",
       "[11 rows x 137 columns]"
      ],
      "text/html": "<div>\n<style scoped>\n    .dataframe tbody tr th:only-of-type {\n        vertical-align: middle;\n    }\n\n    .dataframe tbody tr th {\n        vertical-align: top;\n    }\n\n    .dataframe thead th {\n        text-align: right;\n    }\n</style>\n<table border=\"1\" class=\"dataframe\">\n  <thead>\n    <tr style=\"text-align: right;\">\n      <th></th>\n      <th>CBC W/ AUTO DIFF</th>\n      <th>VENIPUNCTURE</th>\n      <th>COMPREHEN METABOLIC PANEL</th>\n      <th>CHEST 1 VIEW FRONTAL</th>\n      <th>METABOLIC PANEL TOTAL CA</th>\n      <th>GLUC BLOOD NOVA STAT STRIP</th>\n      <th>SODIUM CL 0.9% IVS</th>\n      <th>MAGNESIUM</th>\n      <th>SPUTUM INDUCTION</th>\n      <th>AEROSOL/VAPOR INHALE INITIAL</th>\n      <th>...</th>\n      <th>TRACH SUCT 14FR-12 W/SWVL A</th>\n      <th>MIDODRINE HCL 5MG TAB</th>\n      <th>NEBULIZER MISTY MAX DISP 10</th>\n      <th>ALBUMIN HUMAN 25% IVS</th>\n      <th>CANN INN 8.0 SHILEY</th>\n      <th>NEB PREF'LD 1000ML WATER ONLY</th>\n      <th>HEPATIC FUNCTION PANEL</th>\n      <th>OXYCODONE HCL 5MG TAB</th>\n      <th>RBC LEUKOREDUCED-PROC ONLY</th>\n      <th>RTA</th>\n    </tr>\n    <tr>\n      <th>Index</th>\n      <th></th>\n      <th></th>\n      <th></th>\n      <th></th>\n      <th></th>\n      <th></th>\n      <th></th>\n      <th></th>\n      <th></th>\n      <th></th>\n      <th></th>\n      <th></th>\n      <th></th>\n      <th></th>\n      <th></th>\n      <th></th>\n      <th></th>\n      <th></th>\n      <th></th>\n      <th></th>\n      <th></th>\n    </tr>\n  </thead>\n  <tbody>\n    <tr>\n      <th>564927</th>\n      <td>0</td>\n      <td>0</td>\n      <td>0</td>\n      <td>1</td>\n      <td>0</td>\n      <td>0</td>\n      <td>3</td>\n      <td>0</td>\n      <td>0</td>\n      <td>0</td>\n      <td>...</td>\n      <td>0</td>\n      <td>0</td>\n      <td>0</td>\n      <td>0</td>\n      <td>0</td>\n      <td>0</td>\n      <td>0</td>\n      <td>0</td>\n      <td>0</td>\n      <td>1</td>\n    </tr>\n    <tr>\n      <th>867870</th>\n      <td>0</td>\n      <td>1</td>\n      <td>0</td>\n      <td>1</td>\n      <td>1</td>\n      <td>0</td>\n      <td>0</td>\n      <td>0</td>\n      <td>0</td>\n      <td>0</td>\n      <td>...</td>\n      <td>0</td>\n      <td>0</td>\n      <td>0</td>\n      <td>0</td>\n      <td>0</td>\n      <td>0</td>\n      <td>0</td>\n      <td>0</td>\n      <td>0</td>\n      <td>1</td>\n    </tr>\n    <tr>\n      <th>1766991</th>\n      <td>1</td>\n      <td>0</td>\n      <td>1</td>\n      <td>0</td>\n      <td>0</td>\n      <td>0</td>\n      <td>5</td>\n      <td>0</td>\n      <td>0</td>\n      <td>0</td>\n      <td>...</td>\n      <td>0</td>\n      <td>3</td>\n      <td>0</td>\n      <td>0</td>\n      <td>0</td>\n      <td>0</td>\n      <td>0</td>\n      <td>1</td>\n      <td>0</td>\n      <td>1</td>\n    </tr>\n    <tr>\n      <th>1296695</th>\n      <td>1</td>\n      <td>1</td>\n      <td>0</td>\n      <td>0</td>\n      <td>0</td>\n      <td>0</td>\n      <td>4</td>\n      <td>0</td>\n      <td>0</td>\n      <td>0</td>\n      <td>...</td>\n      <td>0</td>\n      <td>0</td>\n      <td>0</td>\n      <td>0</td>\n      <td>0</td>\n      <td>0</td>\n      <td>0</td>\n      <td>0</td>\n      <td>0</td>\n      <td>1</td>\n    </tr>\n    <tr>\n      <th>1138238</th>\n      <td>0</td>\n      <td>0</td>\n      <td>0</td>\n      <td>0</td>\n      <td>1</td>\n      <td>0</td>\n      <td>3</td>\n      <td>0</td>\n      <td>0</td>\n      <td>0</td>\n      <td>...</td>\n      <td>0</td>\n      <td>0</td>\n      <td>0</td>\n      <td>0</td>\n      <td>0</td>\n      <td>0</td>\n      <td>0</td>\n      <td>4</td>\n      <td>1</td>\n      <td>1</td>\n    </tr>\n    <tr>\n      <th>64315</th>\n      <td>0</td>\n      <td>0</td>\n      <td>0</td>\n      <td>0</td>\n      <td>0</td>\n      <td>0</td>\n      <td>2</td>\n      <td>0</td>\n      <td>0</td>\n      <td>0</td>\n      <td>...</td>\n      <td>0</td>\n      <td>0</td>\n      <td>0</td>\n      <td>0</td>\n      <td>2</td>\n      <td>0</td>\n      <td>0</td>\n      <td>0</td>\n      <td>0</td>\n      <td>1</td>\n    </tr>\n    <tr>\n      <th>442457</th>\n      <td>0</td>\n      <td>0</td>\n      <td>0</td>\n      <td>0</td>\n      <td>0</td>\n      <td>4</td>\n      <td>0</td>\n      <td>0</td>\n      <td>0</td>\n      <td>0</td>\n      <td>...</td>\n      <td>0</td>\n      <td>0</td>\n      <td>0</td>\n      <td>0</td>\n      <td>0</td>\n      <td>0</td>\n      <td>0</td>\n      <td>0</td>\n      <td>0</td>\n      <td>1</td>\n    </tr>\n    <tr>\n      <th>29655</th>\n      <td>0</td>\n      <td>0</td>\n      <td>0</td>\n      <td>0</td>\n      <td>0</td>\n      <td>0</td>\n      <td>3</td>\n      <td>0</td>\n      <td>0</td>\n      <td>0</td>\n      <td>...</td>\n      <td>0</td>\n      <td>9</td>\n      <td>0</td>\n      <td>0</td>\n      <td>0</td>\n      <td>0</td>\n      <td>0</td>\n      <td>0</td>\n      <td>0</td>\n      <td>1</td>\n    </tr>\n    <tr>\n      <th>1861020</th>\n      <td>1</td>\n      <td>1</td>\n      <td>0</td>\n      <td>0</td>\n      <td>2</td>\n      <td>4</td>\n      <td>4</td>\n      <td>1</td>\n      <td>0</td>\n      <td>1</td>\n      <td>...</td>\n      <td>0</td>\n      <td>0</td>\n      <td>0</td>\n      <td>0</td>\n      <td>0</td>\n      <td>0</td>\n      <td>0</td>\n      <td>0</td>\n      <td>0</td>\n      <td>1</td>\n    </tr>\n    <tr>\n      <th>1055780</th>\n      <td>2</td>\n      <td>0</td>\n      <td>2</td>\n      <td>1</td>\n      <td>0</td>\n      <td>0</td>\n      <td>2</td>\n      <td>0</td>\n      <td>0</td>\n      <td>0</td>\n      <td>...</td>\n      <td>0</td>\n      <td>0</td>\n      <td>0</td>\n      <td>0</td>\n      <td>0</td>\n      <td>0</td>\n      <td>0</td>\n      <td>6</td>\n      <td>0</td>\n      <td>1</td>\n    </tr>\n    <tr>\n      <th>487174</th>\n      <td>0</td>\n      <td>1</td>\n      <td>1</td>\n      <td>0</td>\n      <td>0</td>\n      <td>4</td>\n      <td>3</td>\n      <td>0</td>\n      <td>0</td>\n      <td>0</td>\n      <td>...</td>\n      <td>0</td>\n      <td>0</td>\n      <td>0</td>\n      <td>0</td>\n      <td>0</td>\n      <td>0</td>\n      <td>0</td>\n      <td>0</td>\n      <td>0</td>\n      <td>1</td>\n    </tr>\n  </tbody>\n</table>\n<p>11 rows × 137 columns</p>\n</div>"
     },
     "metadata": {},
     "execution_count": 63
    }
   ],
   "source": [
    "df['RTA_conf']\n",
    "feats[feats['RTA']==1]\n",
    "\n",
    "# TODO: For all features_in_outputs, create filler values to insert into example output.\n",
    "#       Do this for both RTA and no RTA\n",
    "\n",
    "# TODO: Create new columns in example outputs df to store calculated filler values\n",
    "\n",
    "# TODO: Form and test a new prompt using these new feature values "
   ]
  }
 ]
}