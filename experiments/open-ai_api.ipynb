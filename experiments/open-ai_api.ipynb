{
    "cells": [
        {
            "cell_type": "markdown",
            "source": [
                "# Setup"
            ],
            "metadata": {}
        },
        {
            "cell_type": "markdown",
            "source": [
                "## Set API key"
            ],
            "metadata": {}
        },
        {
            "cell_type": "code",
            "execution_count": 1,
            "source": [
                "import os   # type: ignore\n",
                "import openai   # type: ignore\n",
                "\n",
                "with open(\"../openai-api-key\") as f:\n",
                "    api_key = f.read()\n",
                "\n",
                "openai.api_key = api_key   # type: ignore\n"
            ],
            "outputs": [],
            "metadata": {}
        },
        {
            "cell_type": "markdown",
            "source": [
                "## Format Data"
            ],
            "metadata": {}
        },
        {
            "cell_type": "code",
            "execution_count": 24,
            "source": [
                "import pandas as pd\n",
                "df = pd.read_csv('../Examples/example_outputs.csv', index_col=False)\n",
                "df['pred'] = df['conf'].round().astype(bool)\n",
                "\n",
                "print(\", \".join(df.columns))\n",
                "df.head()"
            ],
            "outputs": [
                {
                    "output_type": "stream",
                    "name": "stdout",
                    "text": [
                        "F1, AdmitDate, Day_In_Stay, conf, Date_Of_Process, Feature_1, Feature_2, Feature_3, Feature_4, Feature_5, Feature_6, Feature_7, Feature_8, Feature_9, Feature_10, BWLoadDateTime, BWUpdateDateTime, Unnamed: 17, pred\n"
                    ]
                },
                {
                    "output_type": "execute_result",
                    "data": {
                        "text/plain": [
                            "    F1   AdmitDate  Day_In_Stay  conf Date_Of_Process          Feature_1  \\\n",
                            "0  604    9/3/2020           33  0.89       8/10/2020   CBC W/ AUTO DIFF   \n",
                            "1  605    9/3/2020           33  0.86       8/10/2020   CBC W/ AUTO DIFF   \n",
                            "2  586    9/5/2020           33  0.04       9/10/2020   CBC W/ AUTO DIFF   \n",
                            "3  607   9/29/2020            9  0.04       8/10/2020   CBC W/ AUTO DIFF   \n",
                            "\n",
                            "                       Feature_2               Feature_3  \\\n",
                            "0   PT EVALUATION MOD COMPLEXITY     CULTURE SCREEN MRSA   \n",
                            "1             ARTERIAL BLOOD GAS   THERAPEUTIC PROCEDURE   \n",
                            "2            CULTURE SCREEN MRSA      ARTERIAL BLOOD GAS   \n",
                            "3            CULTURE SCREEN MRSA      ARTERIAL BLOOD GAS   \n",
                            "\n",
                            "                        Feature_4                  Feature_5  \\\n",
                            "0              ARTERIAL BLOOD GAS      THERAPEUTIC PROCEDURE   \n",
                            "1                      VANCOMYCIN   METOPROLOL TART 25MG TAB   \n",
                            "2            GAIT TRAINING 15 MIN           MULTIVITAMIN TAB   \n",
                            "3   OT EVALUATION HIGH COMPLEXITY      THERAPEUTIC PROCEDURE   \n",
                            "\n",
                            "                         Feature_6                       Feature_7  \\\n",
                            "0       EVAL SWALLOW/ORAL FUNCTION                      VANCOMYCIN   \n",
                            "1                 MULTIVITAMIN TAB          POTASSIUM CL 20MEQ TER   \n",
                            "2                 ASPIRIN 81MG ECT   ATORVASTATIN CALCIUM 40MG TAB   \n",
                            "3   INSULIN HUM REGULAR 100U/ML IN         ACETAMINOPHEN 325MG TAB   \n",
                            "\n",
                            "                    Feature_8                       Feature_9  \\\n",
                            "0        GAIT TRAINING 15 MIN        METOPROLOL TART 25MG TAB   \n",
                            "1   URINALYSIS AUTO W/O MICRO                      MASK TRACH   \n",
                            "2          CREAM SWEEN 24 5OZ   PT EVALUATION HIGH COMPLEXITY   \n",
                            "3            MULTIVITAMIN TAB            GABAPENTIN 300MG CAP   \n",
                            "\n",
                            "                        Feature_10    BWLoadDateTime  BWUpdateDateTime  \\\n",
                            "0   INSULIN HUM REGULAR 100U/ML IN   10/8/20 3:27 PM   10/8/20 3:27 PM   \n",
                            "1                 ASPIRIN 81MG ECT   10/8/20 3:27 PM   10/8/20 3:27 PM   \n",
                            "2   IPRATR-ALBUTEROL 0.5-3MG/3ML S   10/8/20 3:27 PM   10/9/20 7:27 AM   \n",
                            "3        URINALYSIS AUTO W/O MICRO   10/8/20 3:27 PM   10/8/20 3:27 PM   \n",
                            "\n",
                            "   Unnamed: 17   pred  \n",
                            "0          NaN   True  \n",
                            "1          NaN   True  \n",
                            "2          NaN  False  \n",
                            "3          NaN  False  "
                        ],
                        "text/html": [
                            "<div>\n",
                            "<style scoped>\n",
                            "    .dataframe tbody tr th:only-of-type {\n",
                            "        vertical-align: middle;\n",
                            "    }\n",
                            "\n",
                            "    .dataframe tbody tr th {\n",
                            "        vertical-align: top;\n",
                            "    }\n",
                            "\n",
                            "    .dataframe thead th {\n",
                            "        text-align: right;\n",
                            "    }\n",
                            "</style>\n",
                            "<table border=\"1\" class=\"dataframe\">\n",
                            "  <thead>\n",
                            "    <tr style=\"text-align: right;\">\n",
                            "      <th></th>\n",
                            "      <th>F1</th>\n",
                            "      <th>AdmitDate</th>\n",
                            "      <th>Day_In_Stay</th>\n",
                            "      <th>conf</th>\n",
                            "      <th>Date_Of_Process</th>\n",
                            "      <th>Feature_1</th>\n",
                            "      <th>Feature_2</th>\n",
                            "      <th>Feature_3</th>\n",
                            "      <th>Feature_4</th>\n",
                            "      <th>Feature_5</th>\n",
                            "      <th>Feature_6</th>\n",
                            "      <th>Feature_7</th>\n",
                            "      <th>Feature_8</th>\n",
                            "      <th>Feature_9</th>\n",
                            "      <th>Feature_10</th>\n",
                            "      <th>BWLoadDateTime</th>\n",
                            "      <th>BWUpdateDateTime</th>\n",
                            "      <th>Unnamed: 17</th>\n",
                            "      <th>pred</th>\n",
                            "    </tr>\n",
                            "  </thead>\n",
                            "  <tbody>\n",
                            "    <tr>\n",
                            "      <th>0</th>\n",
                            "      <td>604</td>\n",
                            "      <td>9/3/2020</td>\n",
                            "      <td>33</td>\n",
                            "      <td>0.89</td>\n",
                            "      <td>8/10/2020</td>\n",
                            "      <td>CBC W/ AUTO DIFF</td>\n",
                            "      <td>PT EVALUATION MOD COMPLEXITY</td>\n",
                            "      <td>CULTURE SCREEN MRSA</td>\n",
                            "      <td>ARTERIAL BLOOD GAS</td>\n",
                            "      <td>THERAPEUTIC PROCEDURE</td>\n",
                            "      <td>EVAL SWALLOW/ORAL FUNCTION</td>\n",
                            "      <td>VANCOMYCIN</td>\n",
                            "      <td>GAIT TRAINING 15 MIN</td>\n",
                            "      <td>METOPROLOL TART 25MG TAB</td>\n",
                            "      <td>INSULIN HUM REGULAR 100U/ML IN</td>\n",
                            "      <td>10/8/20 3:27 PM</td>\n",
                            "      <td>10/8/20 3:27 PM</td>\n",
                            "      <td>NaN</td>\n",
                            "      <td>True</td>\n",
                            "    </tr>\n",
                            "    <tr>\n",
                            "      <th>1</th>\n",
                            "      <td>605</td>\n",
                            "      <td>9/3/2020</td>\n",
                            "      <td>33</td>\n",
                            "      <td>0.86</td>\n",
                            "      <td>8/10/2020</td>\n",
                            "      <td>CBC W/ AUTO DIFF</td>\n",
                            "      <td>ARTERIAL BLOOD GAS</td>\n",
                            "      <td>THERAPEUTIC PROCEDURE</td>\n",
                            "      <td>VANCOMYCIN</td>\n",
                            "      <td>METOPROLOL TART 25MG TAB</td>\n",
                            "      <td>MULTIVITAMIN TAB</td>\n",
                            "      <td>POTASSIUM CL 20MEQ TER</td>\n",
                            "      <td>URINALYSIS AUTO W/O MICRO</td>\n",
                            "      <td>MASK TRACH</td>\n",
                            "      <td>ASPIRIN 81MG ECT</td>\n",
                            "      <td>10/8/20 3:27 PM</td>\n",
                            "      <td>10/8/20 3:27 PM</td>\n",
                            "      <td>NaN</td>\n",
                            "      <td>True</td>\n",
                            "    </tr>\n",
                            "    <tr>\n",
                            "      <th>2</th>\n",
                            "      <td>586</td>\n",
                            "      <td>9/5/2020</td>\n",
                            "      <td>33</td>\n",
                            "      <td>0.04</td>\n",
                            "      <td>9/10/2020</td>\n",
                            "      <td>CBC W/ AUTO DIFF</td>\n",
                            "      <td>CULTURE SCREEN MRSA</td>\n",
                            "      <td>ARTERIAL BLOOD GAS</td>\n",
                            "      <td>GAIT TRAINING 15 MIN</td>\n",
                            "      <td>MULTIVITAMIN TAB</td>\n",
                            "      <td>ASPIRIN 81MG ECT</td>\n",
                            "      <td>ATORVASTATIN CALCIUM 40MG TAB</td>\n",
                            "      <td>CREAM SWEEN 24 5OZ</td>\n",
                            "      <td>PT EVALUATION HIGH COMPLEXITY</td>\n",
                            "      <td>IPRATR-ALBUTEROL 0.5-3MG/3ML S</td>\n",
                            "      <td>10/8/20 3:27 PM</td>\n",
                            "      <td>10/9/20 7:27 AM</td>\n",
                            "      <td>NaN</td>\n",
                            "      <td>False</td>\n",
                            "    </tr>\n",
                            "    <tr>\n",
                            "      <th>3</th>\n",
                            "      <td>607</td>\n",
                            "      <td>9/29/2020</td>\n",
                            "      <td>9</td>\n",
                            "      <td>0.04</td>\n",
                            "      <td>8/10/2020</td>\n",
                            "      <td>CBC W/ AUTO DIFF</td>\n",
                            "      <td>CULTURE SCREEN MRSA</td>\n",
                            "      <td>ARTERIAL BLOOD GAS</td>\n",
                            "      <td>OT EVALUATION HIGH COMPLEXITY</td>\n",
                            "      <td>THERAPEUTIC PROCEDURE</td>\n",
                            "      <td>INSULIN HUM REGULAR 100U/ML IN</td>\n",
                            "      <td>ACETAMINOPHEN 325MG TAB</td>\n",
                            "      <td>MULTIVITAMIN TAB</td>\n",
                            "      <td>GABAPENTIN 300MG CAP</td>\n",
                            "      <td>URINALYSIS AUTO W/O MICRO</td>\n",
                            "      <td>10/8/20 3:27 PM</td>\n",
                            "      <td>10/8/20 3:27 PM</td>\n",
                            "      <td>NaN</td>\n",
                            "      <td>False</td>\n",
                            "    </tr>\n",
                            "  </tbody>\n",
                            "</table>\n",
                            "</div>"
                        ]
                    },
                    "metadata": {},
                    "execution_count": 24
                }
            ],
            "metadata": {}
        },
        {
            "cell_type": "markdown",
            "source": [
                "## Functions"
            ],
            "metadata": {}
        },
        {
            "cell_type": "markdown",
            "source": [
                "### Creating a prompt"
            ],
            "metadata": {}
        },
        {
            "cell_type": "code",
            "execution_count": 3,
            "source": [
                "from typing import Optional\n",
                "\n",
                "\n",
                "def create_prompts(df:pd.DataFrame, seed_pre:Optional[str] = None, seed_post:Optional[str] = None):\n",
                "    prompts = []\n",
                "    for _, row in df.iterrows():\n",
                "        prompt = \"\"\n",
                "\n",
                "        if seed_pre is not None:\n",
                "            prompt += seed_pre\n",
                "\n",
                "        prompt += \"It has been determined that the patient \"\n",
                "\n",
                "        if row['pred']:\n",
                "            prompt += \"may have complications \" \n",
                "        else:\n",
                "            prompt += \"is unlikely have complications \"\n",
                "        \n",
                "        prompt += \"with a confidence of {}. \".format(row['conf'])\n",
                "\n",
                "        prompt += \"This is due to the following factors: {}, {}, {}, {}, {}\".format(\n",
                "            row['Feature_1'],\n",
                "            row['Feature_2'],\n",
                "            row['Feature_3'],\n",
                "            row['Feature_4'],\n",
                "            row['Feature_5'],\n",
                "        )\n",
                "        \n",
                "        if seed_post is not None:\n",
                "            prompt += seed_post\n",
                "\n",
                "        prompts.append(prompt)\n",
                "\n",
                "    return prompts\n",
                "\n",
                "def instruction_based_prompt(df, num_feats=5):\n",
                "    assert num_feats > 0 and num_feats <= 10, \"Must use between 1 and 10 features\"\n",
                "    prompts = []\n",
                "    for _, row in df.iterrows():\n",
                "        feats = list(row.iloc[5:5+num_feats])\n",
                "        feats = [f.strip() for f in feats]\n",
                "        prompt = \"Explain to a nurse why a patient \"\n",
                "        if row['pred']:\n",
                "            prompt += \"may have complications \"\n",
                "        else:\n",
                "            prompt += \"is unlikely have complications \"\n",
                "        prompt += \"based on the following features:\\n\\n\"\n",
                "        prompt += \"Features:\\n\" + \"\\n\".join(feats)\n",
                "        prompt += \"\\n\\nExplanation:\\n\\n\"\n",
                "        prompts.append(prompt)\n",
                "    return prompts\n",
                "\n",
                "\n",
                "def print_query(prompt, response):\n",
                "    print(\"[PROMPT]:\\n{}\\n[RESPONSE]:\\n{}\".format(prompt, response['choices'][0]['text']))\n",
                "\n"
            ],
            "outputs": [],
            "metadata": {}
        },
        {
            "cell_type": "markdown",
            "source": [
                "# Query Experiments "
            ],
            "metadata": {}
        },
        {
            "cell_type": "markdown",
            "source": [
                "## Prompt Types"
            ],
            "metadata": {}
        },
        {
            "cell_type": "markdown",
            "source": [
                "### TL;DR Summarization"
            ],
            "metadata": {}
        },
        {
            "cell_type": "code",
            "execution_count": 14,
            "source": [
                "prompts = create_prompts(df, seed_post=\"\\n\\ntl;dr:\")\n",
                "print(prompts[0])"
            ],
            "outputs": [
                {
                    "output_type": "stream",
                    "name": "stdout",
                    "text": [
                        "It has been determined that the patient may have complications with a confidence of 0.89. This is due to the following factors:  CBC W/ AUTO DIFF,  PT EVALUATION MOD COMPLEXITY,  CULTURE SCREEN MRSA,  ARTERIAL BLOOD GAS,  THERAPEUTIC PROCEDURE\n",
                        "\n",
                        "tl;dr:\n"
                    ]
                }
            ],
            "metadata": {}
        },
        {
            "cell_type": "markdown",
            "source": [
                "### Summarize for a 2nd grader"
            ],
            "metadata": {}
        },
        {
            "cell_type": "code",
            "execution_count": 7,
            "source": [
                "prompts = create_prompts(df,\n",
                "    seed_pre=\"My second grader asked me what this passage means:\\n\\\"\\\"\\\"\\n\",\n",
                "    seed_post=\"\\n\\\"\\\"\\\"\\nI rephrased it for him, in plain language a second grader can understand:\\n\\\"\\\"\\\"\\n\"\n",
                ")\n",
                "print(prompts[0])"
            ],
            "outputs": [
                {
                    "output_type": "stream",
                    "name": "stdout",
                    "text": [
                        "My second grader asked me what this passage means:\n",
                        "\"\"\"\n",
                        "It has been determined that the patient may have complications with a confidence of 0.89. This is due to the following factors:  CBC W/ AUTO DIFF,  PT EVALUATION MOD COMPLEXITY,  CULTURE SCREEN MRSA,  ARTERIAL BLOOD GAS,  THERAPEUTIC PROCEDURE\n",
                        "\"\"\"\n",
                        "I rephrased it for him, in plain language a second grader can understand:\n",
                        "\"\"\"\n",
                        "\n"
                    ]
                }
            ],
            "metadata": {}
        },
        {
            "cell_type": "markdown",
            "source": [
                "### Custom Instruction-based prompt"
            ],
            "metadata": {}
        },
        {
            "cell_type": "code",
            "execution_count": 19,
            "source": [
                "prompts = instruction_based_prompt(df, num_feats=10)\n",
                "print(prompts[0])"
            ],
            "outputs": [
                {
                    "output_type": "stream",
                    "name": "stdout",
                    "text": [
                        "Explain to a nurse why a patient may have complications based on the following features:\n",
                        "\n",
                        "Features:\n",
                        "CBC W/ AUTO DIFF\n",
                        "PT EVALUATION MOD COMPLEXITY\n",
                        "CULTURE SCREEN MRSA\n",
                        "ARTERIAL BLOOD GAS\n",
                        "THERAPEUTIC PROCEDURE\n",
                        "EVAL SWALLOW/ORAL FUNCTION\n",
                        "VANCOMYCIN\n",
                        "GAIT TRAINING 15 MIN\n",
                        "METOPROLOL TART 25MG TAB\n",
                        "INSULIN HUM REGULAR 100U/ML IN\n",
                        "\n",
                        "Explanation:\n",
                        "\n",
                        "\n"
                    ]
                }
            ],
            "metadata": {}
        },
        {
            "cell_type": "markdown",
            "source": [
                "## Get Query Response"
            ],
            "metadata": {}
        },
        {
            "cell_type": "code",
            "execution_count": 22,
            "source": [
                "# engine=\"davinci\"\n",
                "# engine=\"ada\"\n",
                "#engine=\"curie-instruct-beta\"\n",
                "engine=\"davinci-instruct-beta\"\n",
                "\n",
                "num_token=100\n",
                "#num_token=50\n",
                "\n",
                "#temp = None\n",
                "temp = 0.3\n",
                "\n",
                "response = openai.Completion.create(engine=engine, prompt=prompts[0], max_tokens=num_token, temperature=temp)"
            ],
            "outputs": [],
            "metadata": {}
        },
        {
            "cell_type": "code",
            "execution_count": 6,
            "source": [
                "print_query(prompts[0], response)"
            ],
            "outputs": [
                {
                    "output_type": "stream",
                    "name": "stdout",
                    "text": [
                        "[PROMPT]:\n",
                        "It has been determined that the patient may have complications with a confidence of 0.89. This is due to the following factors:  CBC W/ AUTO DIFF,  PT EVALUATION MOD COMPLEXITY,  CULTURE SCREEN MRSA,  ARTERIAL BLOOD GAS,  THERAPEUTIC PROCEDURE\n",
                        "\n",
                        "tl;dr:\n",
                        "[RESPONSE]:\n",
                        "\n",
                        "\n",
                        "The patient may have complications with a confidence of 0.89.\n"
                    ]
                }
            ],
            "metadata": {}
        },
        {
            "cell_type": "markdown",
            "source": [
                "## Example outputs"
            ],
            "metadata": {}
        },
        {
            "cell_type": "markdown",
            "source": [
                "### 2nd Grader Summarization with the curie-instruct-beta model"
            ],
            "metadata": {}
        },
        {
            "cell_type": "code",
            "execution_count": 13,
            "source": [
                "print_query(prompts[0], response)"
            ],
            "outputs": [
                {
                    "output_type": "stream",
                    "name": "stdout",
                    "text": [
                        "[PROMPT]:\n",
                        "My second grader asked me what this passage means:\n",
                        "\"\"\"\n",
                        "It has been determined that the patient may have complications with a confidence of 0.89. This is due to the following factors:  CBC W/ AUTO DIFF,  PT EVALUATION MOD COMPLEXITY,  CULTURE SCREEN MRSA,  ARTERIAL BLOOD GAS,  THERAPEUTIC PROCEDURE\n",
                        "\"\"\"\n",
                        "I rephrased it for him, in plain language a second grader can understand:\n",
                        "\"\"\"\n",
                        "\n",
                        "[RESPONSE]:\n",
                        "It means that the doctor thinks that you might have a problem with your blood. He thinks that you might have a problem with your blood because it is not normal. He thinks that you might have a problem with your blood because you have a lot of white blood cells in your blood. He thinks that you might have a problem with your blood because you have a lot of red blood cells in your blood. He thinks that you might have a problem with your blood because you have a lot of oxygen in\n"
                    ]
                }
            ],
            "metadata": {}
        },
        {
            "cell_type": "markdown",
            "source": [
                "### TL;DR: with davinci-instruct-beta"
            ],
            "metadata": {}
        },
        {
            "cell_type": "code",
            "execution_count": 18,
            "source": [
                "print_query(prompts[0], response)"
            ],
            "outputs": [
                {
                    "output_type": "stream",
                    "name": "stdout",
                    "text": [
                        "[PROMPT]:\n",
                        "It has been determined that the patient may have complications with a confidence of 0.89. This is due to the following factors:  CBC W/ AUTO DIFF,  PT EVALUATION MOD COMPLEXITY,  CULTURE SCREEN MRSA,  ARTERIAL BLOOD GAS,  THERAPEUTIC PROCEDURE\n",
                        "\n",
                        "tl;dr:\n",
                        "[RESPONSE]:\n",
                        " the patient has a high chance of having a complication.\n",
                        "\n",
                        "The confidence is calculated by the following formula:\n",
                        "\n",
                        "confidence = (probability of having the complication) / (1 - (probability of not having the complication))\n",
                        "\n",
                        "In this case, the probability of having the complication is 0.89, and the probability of not having the complication is 0.11.\n",
                        "\n",
                        "The confidence is calculated as 0.89 / (1 - 0.11) = 0.\n"
                    ]
                }
            ],
            "metadata": {}
        },
        {
            "cell_type": "markdown",
            "source": [
                "### Instruction Prompt w/ Davinci-Instruct-Beta Model"
            ],
            "metadata": {}
        },
        {
            "cell_type": "code",
            "execution_count": 23,
            "source": [
                "print_query(prompts[0], response)"
            ],
            "outputs": [
                {
                    "output_type": "stream",
                    "name": "stdout",
                    "text": [
                        "[PROMPT]:\n",
                        "Explain to a nurse why a patient may have complications based on the following features:\n",
                        "\n",
                        "Features:\n",
                        "CBC W/ AUTO DIFF\n",
                        "PT EVALUATION MOD COMPLEXITY\n",
                        "CULTURE SCREEN MRSA\n",
                        "ARTERIAL BLOOD GAS\n",
                        "THERAPEUTIC PROCEDURE\n",
                        "EVAL SWALLOW/ORAL FUNCTION\n",
                        "VANCOMYCIN\n",
                        "GAIT TRAINING 15 MIN\n",
                        "METOPROLOL TART 25MG TAB\n",
                        "INSULIN HUM REGULAR 100U/ML IN\n",
                        "\n",
                        "Explanation:\n",
                        "\n",
                        "\n",
                        "[RESPONSE]:\n",
                        "\n",
                        "\n",
                        "-A patient may have complications based on the following features:\n",
                        "\n",
                        "-CBC with auto differential\n",
                        "-PT evaluation mod complexity\n",
                        "-Culture screen MRSA\n",
                        "-Arterial blood gas\n",
                        "-Therapeutic procedure\n",
                        "-Evaluate swallow/oral function\n",
                        "-Vancomycin\n",
                        "-Gait training 15 min\n",
                        "-Metoprolol tart 25mg tab\n",
                        "-Insulin human regular 100U/ml in\n"
                    ]
                }
            ],
            "metadata": {}
        }
    ],
    "metadata": {
        "orig_nbformat": 4,
        "language_info": {
            "name": "python",
            "version": "3.9.5",
            "mimetype": "text/x-python",
            "codemirror_mode": {
                "name": "ipython",
                "version": 3
            },
            "pygments_lexer": "ipython3",
            "nbconvert_exporter": "python",
            "file_extension": ".py"
        },
        "kernelspec": {
            "name": "python3",
            "display_name": "Python 3.9.5 64-bit ('gpt-xai': conda)"
        },
        "interpreter": {
            "hash": "54bad7ec35f63b8bd3091fe6a9c1cd23433f25d87a7108e37e405c00634f9038"
        }
    },
    "nbformat": 4,
    "nbformat_minor": 2
}