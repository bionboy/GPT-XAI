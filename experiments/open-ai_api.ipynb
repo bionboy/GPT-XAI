{
    "cells": [
        {
            "cell_type": "markdown",
            "source": [
                "# Setup"
            ],
            "metadata": {}
        },
        {
            "cell_type": "markdown",
            "source": [
                "## Set API key"
            ],
            "metadata": {}
        },
        {
            "cell_type": "code",
            "execution_count": 1,
            "source": [
                "import os   # type: ignore\n",
                "import openai   # type: ignore\n",
                "\n",
                "with open(\"../openai-api-key\") as f:\n",
                "    api_key = f.read()\n",
                "\n",
                "openai.api_key = api_key   # type: ignore\n",
                "\n",
                "#response = openai.Completion.create(engine=\"davinci\", prompt=\"This is a test\", max_tokens=5)"
            ],
            "outputs": [],
            "metadata": {}
        },
        {
            "cell_type": "markdown",
            "source": [
                "## Format Data"
            ],
            "metadata": {}
        },
        {
            "cell_type": "code",
            "execution_count": 2,
            "source": [
                "import pandas as pd\n",
                "df = pd.read_csv('../Examples/RTA/example_outputs.csv', index_col=False)\n",
                "df['rta'] = df['RTA_conf'].round().astype(bool)\n",
                "\n",
                "print(df.columns)\n",
                "print(df['rta'])"
            ],
            "outputs": [
                {
                    "output_type": "stream",
                    "name": "stdout",
                    "text": [
                        "Index(['F1', 'AdmitDate', 'Day_In_Stay', 'RTA_conf', 'Date_Of_Process',\n       'Feature_1', 'Feature_2', 'Feature_3', 'Feature_4', 'Feature_5',\n       'Feature_6', 'Feature_7', 'Feature_8', 'Feature_9', 'Feature_10',\n       'BWLoadDateTime', 'BWUpdateDateTime', 'Unnamed: 17', 'rta'],\n      dtype='object')\n0     True\n1     True\n2    False\n3    False\nName: rta, dtype: bool\n"
                    ]
                }
            ],
            "metadata": {}
        },
        {
            "cell_type": "markdown",
            "source": [
                "## Functions"
            ],
            "metadata": {}
        },
        {
            "cell_type": "markdown",
            "source": [
                "### Creating a prompt\n",
                "\n",
                "*Acute care*\n",
                "> Acute care is a branch of secondary health care where a patient receives active but short-term treatment for a severe injury or episode of illness, an urgent medical condition, or during recovery from surgery. In medical terms, care for acute health conditions is the opposite from chronic care, or longer term care."
            ],
            "metadata": {}
        },
        {
            "cell_type": "code",
            "execution_count": 5,
            "source": [
                "from typing import Optional\n",
                "\n",
                "\n",
                "def create_prompts(df:pd.DataFrame, seed_pre:Optional[str] = None, seed_post:Optional[str] = None):\n",
                "    prompts = []\n",
                "    for _, row in df.iterrows():\n",
                "        prompt = \"\"\n",
                "\n",
                "        if seed_pre is not None:\n",
                "            prompt += seed_pre\n",
                "\n",
                "        prompt += \"It has been determined that the patient \"\n",
                "\n",
                "        if row['rta']:\n",
                "            prompt += \"must return to acute care. \"\n",
                "        else:\n",
                "            prompt += \"will not return to acute care. \"\n",
                "\n",
                "        prompt += \"This is due to the following factors: {}, {}, {}, {}, {}\".format(\n",
                "            row['Feature_1'],\n",
                "            row['Feature_2'],\n",
                "            row['Feature_3'],\n",
                "            row['Feature_4'],\n",
                "            row['Feature_5'],\n",
                "        )\n",
                "        \n",
                "        if seed_post is not None:\n",
                "            prompt += seed_post\n",
                "\n",
                "        prompts.append(prompt)\n",
                "\n",
                "    return prompts\n",
                "\n",
                "def instruction_based_prompt(df, num_feats=5):\n",
                "    assert num_feats > 0 and num_feats <= 10, \"Must use between 1 and 10 features\"\n",
                "    prompts = []\n",
                "    for _, row in df.iterrows():\n",
                "        feats = list(row.iloc[5:5+num_feats])\n",
                "        feats = [f.strip() for f in feats]\n",
                "        prompt = \"Explain to a nurse why a patient \"\n",
                "        if row['rta']:\n",
                "            prompt += \"has to return to acute care \"\n",
                "        else:\n",
                "            prompt += \"will not return to acute care \"\n",
                "        prompt += \"based on the following features:\\n\\n\"\n",
                "        prompt += \"Features:\\n\" + \"\\n\".join(feats)\n",
                "        prompt += \"\\n\\nExplanation:\\n\\n\"\n",
                "        prompts.append(prompt)\n",
                "    return prompts\n",
                "\n",
                "\n",
                "def print_query(prompt, response):\n",
                "    print(\"[PROMPT]:\\n{}\\n[RESPONSE]:\\n{}\".format(prompt, response['choices'][0]['text']))\n",
                "\n"
            ],
            "outputs": [],
            "metadata": {}
        },
        {
            "cell_type": "markdown",
            "source": [
                "# Query Experiments "
            ],
            "metadata": {}
        },
        {
            "cell_type": "markdown",
            "source": [
                "## Prompt Types"
            ],
            "metadata": {}
        },
        {
            "cell_type": "markdown",
            "source": [
                "### TL;DR Summarization"
            ],
            "metadata": {}
        },
        {
            "cell_type": "code",
            "execution_count": 85,
            "source": [
                "prompts = create_prompts(df, seed_post=\"\\n\\ntl;dr:\")\n",
                "print(prompts[0])"
            ],
            "outputs": [
                {
                    "output_type": "stream",
                    "name": "stdout",
                    "text": [
                        "It has been determined that the patient must return to acute care. This is due to the following factors:  CBC,  W/ AUTO DIFF,  PT EVALUATION MOD COMPLEXITY,  CULTURE SCREEN MRSA,  ARTERIAL BLOOD GAS\n",
                        "\n",
                        "tl;dr:\n"
                    ]
                }
            ],
            "metadata": {}
        },
        {
            "cell_type": "markdown",
            "source": [
                "### Summarize for a 2nd grader"
            ],
            "metadata": {}
        },
        {
            "cell_type": "code",
            "execution_count": 79,
            "source": [
                "prompts = create_prompts(df,\n",
                "    seed_pre=\"My second grader asked me what this passage means:\\n\\\"\\\"\\\"\\n\",\n",
                "    seed_post=\"\\n\\\"\\\"\\\"\\nI rephrased it for him, in plain language a second grader can understand:\\n\\\"\\\"\\\"\\n\"\n",
                ")\n",
                "\n",
                "print(prompts[0])"
            ],
            "outputs": [
                {
                    "output_type": "stream",
                    "name": "stdout",
                    "text": [
                        "My second grader asked me what this passage means:\n",
                        "\"\"\"\n",
                        "It has been determined that the patient must return to acute care. This is due to the following factors:  CBC,  W/ AUTO DIFF,  PT EVALUATION MOD COMPLEXITY,  CULTURE SCREEN MRSA,  ARTERIAL BLOOD GAS\n",
                        "\"\"\"\n",
                        "I rephrased it for him, in plain language a second grader can understand:\n",
                        "\"\"\"\n",
                        "\n"
                    ]
                }
            ],
            "metadata": {}
        },
        {
            "cell_type": "markdown",
            "source": [
                "### Custom Instruction-based prompt"
            ],
            "metadata": {}
        },
        {
            "cell_type": "code",
            "execution_count": 8,
            "source": [
                "prompts = instruction_based_prompt(df, num_feats=10)\n",
                "print(prompts[0])"
            ],
            "outputs": [
                {
                    "output_type": "stream",
                    "name": "stdout",
                    "text": [
                        "Explain to a nurse why a patient has to return to acute care based on the following features:\n\nFeatures:\nCBC\nW/ AUTO DIFF\nPT EVALUATION MOD COMPLEXITY\nCULTURE SCREEN MRSA\nARTERIAL BLOOD GAS\nTHERAPEUTIC PROCEDURE\nEVAL SWALLOW/ORAL FUNCTION\nVANCOMYCIN\nGAIT TRAINING 15 MIN\nMETOPROLOL TART 25MG TAB\n\nExplanation:\n\n\n"
                    ]
                }
            ],
            "metadata": {}
        },
        {
            "cell_type": "markdown",
            "source": [
                "## Get Query Response"
            ],
            "metadata": {}
        },
        {
            "cell_type": "code",
            "execution_count": 17,
            "source": [
                "#engine=\"davinci\"\n",
                "# engine=\"ada\"\n",
                "#engine=\"curie-instruct-beta\"\n",
                "engine=\"davinci-instruct-beta\"\n",
                "\n",
                "num_token=100\n",
                "#num_token=50\n",
                "\n",
                "#temp = None\n",
                "temp = 0.3\n",
                "\n",
                "response = openai.Completion.create(engine=engine, prompt=prompts[3], max_tokens=num_token, temperature=temp)"
            ],
            "outputs": [],
            "metadata": {}
        },
        {
            "cell_type": "code",
            "execution_count": 19,
            "source": [
                "print_query(prompts[3], response)\n",
                "#print(response['choices'][0]['text'])\n"
            ],
            "outputs": [
                {
                    "output_type": "stream",
                    "name": "stdout",
                    "text": [
                        "[PROMPT]:\nExplain to a nurse why a patient will not return to acute care based on the following features:\n\nFeatures:\nCBC\nW/ AUTO DIFF\nCULTURE SCREEN MRSA\nARTERIAL BLOOD GAS\nOT EVALUATION HIGH COMPLEXITY\nTHERAPEUTIC PROCEDURE\nINSULIN HUM REGULAR 100U/ML IN\nACETAMINOPHEN 325MG TAB\nMULTIVITAMIN TAB\nGABAPENTIN 300MG CAP\n\nExplanation:\n\n\n[RESPONSE]:\n\n\nThe patient has an elevated white blood cell count, which is indicative of an infection. The patient has a culture screen for MRSA, which is a type of infection. The patient has an arterial blood gas, which is indicative of a respiratory infection. The patient has an ophthalmologic evaluation, which is indicative of an infection. The patient has a therapeutic procedure, which is indicative of an infection. The patient has an insulin hum regular 100U/ml in, which is indicative\n"
                    ]
                }
            ],
            "metadata": {}
        },
        {
            "cell_type": "markdown",
            "source": [
                "## Example outputs"
            ],
            "metadata": {}
        },
        {
            "cell_type": "markdown",
            "source": [
                "### 2nd Grader Summarization with the curie-instruct-beta model"
            ],
            "metadata": {}
        },
        {
            "cell_type": "code",
            "execution_count": 82,
            "source": [
                "print_query(prompts[0], response)"
            ],
            "outputs": [
                {
                    "output_type": "stream",
                    "name": "stdout",
                    "text": [
                        "Prompt:\n",
                        "My second grader asked me what this passage means:\n",
                        "\"\"\"\n",
                        "It has been determined that the patient must return to acute care. This is due to the following factors:  CBC,  W/ AUTO DIFF,  PT EVALUATION MOD COMPLEXITY,  CULTURE SCREEN MRSA,  ARTERIAL BLOOD GAS\n",
                        "\"\"\"\n",
                        "I rephrased it for him, in plain language a second grader can understand:\n",
                        "\"\"\"\n",
                        "\n",
                        "\n",
                        "Response:\n",
                        "The patient needs to go back to the hospital because they have a fever, a white blood cell count, and a urine test that showed they have an infection. \n",
                        "\n",
                        "I also explained that the word \"due\" means \"because of\" or\n"
                    ]
                }
            ],
            "metadata": {}
        },
        {
            "cell_type": "markdown",
            "source": [
                "### TL;DR: with davinci-instruct-beta"
            ],
            "metadata": {}
        },
        {
            "cell_type": "code",
            "execution_count": 94,
            "source": [
                "print_query(prompts[0], response)"
            ],
            "outputs": [
                {
                    "output_type": "stream",
                    "name": "stdout",
                    "text": [
                        "[PROMPT]:\n",
                        "It has been determined that the patient must return to acute care. This is due to the following factors:  CBC,  W/ AUTO DIFF,  PT EVALUATION MOD COMPLEXITY,  CULTURE SCREEN MRSA,  ARTERIAL BLOOD GAS\n",
                        "\n",
                        "tl;dr:\n",
                        "[RESPONSE]:\n",
                        "\n",
                        "\n",
                        "The patient needs to go back to the hospital because they have a lot of problems.\n"
                    ]
                }
            ],
            "metadata": {}
        },
        {
            "cell_type": "markdown",
            "source": [
                "### Instruction Prompt w/ Davinci-Instruct-Beta Model"
            ],
            "metadata": {}
        },
        {
            "cell_type": "code",
            "execution_count": 123,
            "source": [
                "print_query(prompts[0], response)"
            ],
            "outputs": [
                {
                    "output_type": "stream",
                    "name": "stdout",
                    "text": [
                        "[PROMPT]:\n",
                        "Explain to a nurse why a patient may have to return to acute based on the following features:\n",
                        "\n",
                        "Features:\n",
                        "CBC\n",
                        "W/ AUTO DIFF\n",
                        "PT EVALUATION MOD COMPLEXITY\n",
                        "CULTURE SCREEN MRSA\n",
                        "ARTERIAL BLOOD GAS\n",
                        "THERAPEUTIC PROCEDURE\n",
                        "EVAL SWALLOW/ORAL FUNCTION\n",
                        "VANCOMYCIN\n",
                        "GAIT TRAINING 15 MIN\n",
                        "METOPROLOL TART 25MG TAB\n",
                        "\n",
                        "Explanation:\n",
                        "\n",
                        "\n",
                        "[RESPONSE]:\n",
                        "\n",
                        "\n",
                        "CBC: The patient's CBC may show an abnormality.\n",
                        "\n",
                        "W/ AUTO DIFF: The patient may have an auto-immune disorder.\n",
                        "\n",
                        "PT EVALUATION MOD COMPLEXITY: The patient may need to be evaluated for a more complex physical therapy evaluation.\n",
                        "\n",
                        "CULTURE SCREEN MRSA: The patient may have a MRSA infection.\n",
                        "\n",
                        "ARTERIAL BLOOD GAS: The patient may have an arterial blood gas that\n"
                    ]
                }
            ],
            "metadata": {}
        }
    ],
    "metadata": {
        "orig_nbformat": 4,
        "language_info": {
            "name": "python",
            "version": "3.9.5"
        },
        "kernelspec": {
            "name": "python3",
            "display_name": "Python 3.9.5 64-bit ('gpt-xai': conda)"
        },
        "interpreter": {
            "hash": "54bad7ec35f63b8bd3091fe6a9c1cd23433f25d87a7108e37e405c00634f9038"
        }
    },
    "nbformat": 4,
    "nbformat_minor": 2
}